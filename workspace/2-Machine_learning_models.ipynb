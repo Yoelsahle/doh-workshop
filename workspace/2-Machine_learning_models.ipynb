{
 "cells": [
  {
   "cell_type": "markdown",
   "id": "10917dae",
   "metadata": {},
   "source": [
    "# Malicious DNS-over-HTTP Traffic Detection with Anomaly Detection Machine Learning\n",
    "\n",
    "Welcome to this Jupyter Notebook! We will explore the use of anomaly detection machine learning techniques to detect malicious DoH traffic. The notebook will guide your through loading a DoH traffic dataset, preparing the datasets, training machine learning models, and evaluating their effectiveness in identifying malicious traffic. "
   ]
  },
  {
   "cell_type": "markdown",
   "id": "bdc6676a",
   "metadata": {},
   "source": [
    "## The anomaly detection machine learning workflow\n",
    "\n",
    "The steps to train and use an anomaly detection machine learning model are usually as follows: \n",
    " 1. Load data\n",
    " 2. Prepare training and testing datasets for training phase. These dataset only includes normal data. \n",
    " 3. Prepare an evaluation dataset that contains both normal and malicious data. \n",
    " 4. Run a training algorithm using the training and testing dataset.\n",
    " 5. Run inference with the trained ML model using the evaluation dataset and measure performance. \n",
    " 6. Visualize the ML model's performance\n",
    " \n",
    "The rest of this notebook will follow these steps to train anomaly detection (i.e., semi-supervised) machine learning models to detect malicious DoH traffic.  "
   ]
  },
  {
   "cell_type": "markdown",
   "id": "dc802ced",
   "metadata": {},
   "source": [
    "## Load the DoH traffic data\n",
    "We start by loading the data sets we created in notebook 1. "
   ]
  },
  {
   "cell_type": "code",
   "execution_count": null,
   "id": "2e082c87",
   "metadata": {},
   "outputs": [],
   "source": [
    "# Import the pandas library\n",
    "import pandas as pd\n",
    "\n",
    "# Load the datasets into Pandas dataframes\n",
    "data_training = pd.read_csv('data_training.csv')\n",
    "data_testing  = pd.read_csv('data_testing.csv')\n",
    "\n",
    "# Get the labels\n",
    "training_labels   = data_training['is_doh']\n",
    "evaluation_labels = data_testing['is_doh']\n",
    "\n",
    "# Drop the label columns\n",
    "label_col = 'is_doh'\n",
    "data_training   = data_training.drop(columns = label_col)\n",
    "data_evaluation = data_testing.drop(columns = label_col)"
   ]
  },
  {
   "cell_type": "code",
   "execution_count": null,
   "id": "78870cb8",
   "metadata": {},
   "outputs": [],
   "source": [
    "data_training"
   ]
  },
  {
   "cell_type": "code",
   "execution_count": null,
   "id": "4e49ca75",
   "metadata": {},
   "outputs": [],
   "source": [
    "data_evaluation"
   ]
  },
  {
   "cell_type": "markdown",
   "id": "fc149fdd",
   "metadata": {},
   "source": [
    "## Training of Anomaly Detection ML Models\n",
    "\n",
    "Now that we have our data sets ready, we can start the training phase. The first step is to choose the anomaly detection models that we want to use. For this notebook, we will be using Isolation Forest, Local Outlier Factor, and One-class support vector machine. \n",
    "\n",
    "IF, LOF, and OCSVM are traditional ML models. These models have low training and inference times but may not be able to accurately model complex data. In contrast, deep learning can model very complex data but requires a longer training time. \n",
    "\n",
    "We will train only ML models next."
   ]
  },
  {
   "cell_type": "markdown",
   "id": "d8f55a6d",
   "metadata": {},
   "source": [
    "### Isolation Forest\n",
    "Isolation Forests (IF) are the anomaly detection cousins of random forests. An isolation forest is formed by multiple isolation trees. \n",
    "\n",
    "The main idea of an isolation tree is that anomalous data can be isolated with fewer partitions than non-anomolous data. For example, consider the points $x_i$ and $x_j$. We need to create several partitions before we can find a rectangle that only contains $x_i$. In contrast, we only need a few partitions to isolate $x_j$ into its own rectangle. \n",
    "\n",
    "![Non-anomolous data point](https://upload.wikimedia.org/wikipedia/commons/c/ce/Isolating_a_Non-Anomalous_Point.png)\n",
    "![Anomolous data point](https://upload.wikimedia.org/wikipedia/commons/f/ff/Isolating_an_Anomalous_Point.png)\n",
    "\n",
    "Source: [Wikipedia](https://en.wikipedia.org/wiki/Isolation_forest)\n",
    "\n",
    "The data partitions can be represented by a binary tree. The leaf nodes in binary trees describe the subset of data contained in a rectabgle. Samples in a rectangle share common features. Since anomalies will have certain very different features, the path from the node to the leaf will be short. The binary trees are build roughly as follows:\n",
    "\n",
    "1. Randomly sample N instances from your training dataset.\n",
    "\n",
    "At each node of the binary tree:\n",
    "\n",
    "   2. Randomly choose a feature to split the dataset upon.\n",
    "\n",
    "   3. Randomly choose a split value from a uniform distribution spanning from the minimum value to the maximum    value of the feature chosen in Step 2.\n",
    "\n",
    "Stop when you reach a maximum height. Anomalies will be in the leaves with shortest path to root. \n",
    "\n",
    "![Isolation tree](https://content.linkedin.com/content/dam/engineering/site-assets/images/blog/posts/2019/08/IsolationForest1.png)\n",
    "Source: Linkedin Learning: [Isolation Forest](https://engineering.linkedin.com/blog/2019/isolation-forest)"
   ]
  },
  {
   "cell_type": "markdown",
   "id": "6f5960f1",
   "metadata": {},
   "source": [
    "####  Training an Isolation Forest \n",
    "\n",
    "To train an Isolation Forest (IF) we use the Scikit-learn library. This library implements most ML models and provides a convenient API. The trained model is saved into a .sav file. We will load the trained model later to evaluate its performance. \n",
    "\n",
    "IFs can be trained with the normal data, and later evaluated with the normal plus malicious data.  \n",
    "\n",
    "The performance of the model is determined by its parameters and the training data. An explanation of the parameters can be found [here](https://scikit-learn.org/0.21/modules/generated/sklearn.ensemble.IsolationForest.html#sklearn.ensemble.IsolationForest).\n",
    "\n",
    "Scikit learn calls isolation trees \"estimator\", and the training dataset \"X\".\n",
    "\n",
    "These parameters are tunable: n_estimators, max_samples, max_features, bootstrap."
   ]
  },
  {
   "cell_type": "code",
   "execution_count": null,
   "id": "3647daa6",
   "metadata": {},
   "outputs": [],
   "source": [
    "from sklearn.ensemble import IsolationForest\n",
    "from time import perf_counter\n",
    "import joblib\n",
    "\n",
    "# We are using a subset of the training dataset. Does this make sense?\n",
    "training_samples = 100\n",
    "\n",
    "seed = 1\n",
    "\n",
    "#Initilizae Isoloation Forest Model. This is where you can change its parameters\n",
    "model_if = IsolationForest(n_estimators=50, max_samples='auto', \\\n",
    "                           max_features=1.0, bootstrap=True,  \\\n",
    "                           random_state =seed)\n",
    "\n",
    "# Train the isolation forest.\n",
    "tic = perf_counter() \n",
    "model_if = model_if.fit(data_training.sample(n=training_samples))\n",
    "toc = perf_counter()\n",
    "\n",
    "#Save the model in case we need it later\n",
    "joblib.dump(model_if, 'Isolation_Forest.sav')\n",
    "\n",
    "t_if = toc-tic"
   ]
  },
  {
   "cell_type": "code",
   "execution_count": null,
   "id": "31cc167d",
   "metadata": {},
   "outputs": [],
   "source": [
    "print('The IF training time is:')\n",
    "t_if"
   ]
  },
  {
   "cell_type": "markdown",
   "id": "e8cca401",
   "metadata": {},
   "source": [
    "#### Visualizing the Isolation Forest\n",
    "We can plot one of the binary trees in the IsolationForest"
   ]
  },
  {
   "cell_type": "code",
   "execution_count": null,
   "id": "0ae82418",
   "metadata": {},
   "outputs": [],
   "source": [
    "# Extract a binary tree from the IsolationForest object\n",
    "tree = model_if.estimators_[0]\n",
    "\n",
    "from sklearn.tree import export_graphviz\n",
    "import pydot\n",
    "import graphviz\n",
    "from IPython.display import Image\n",
    "\n",
    "graph_data = export_graphviz(\n",
    "    tree,\n",
    "    out_file=\"isolation_tree.dot\",\n",
    "    feature_names=data_training.columns.to_list(),\n",
    "    class_names=['normal', 'malicious'],\n",
    "    rounded=True,\n",
    "    filled=True\n",
    ")\n",
    "\n",
    "\n",
    "'''\n",
    "Convert the .dot file to .png\n",
    "'''\n",
    "(graph,) = pydot.graph_from_dot_file('isolation_tree.dot')\n",
    "graph.write_png('isolation_tree.png')\n",
    "Image('isolation_tree.png')"
   ]
  },
  {
   "cell_type": "markdown",
   "id": "2dbe2b67",
   "metadata": {},
   "source": [
    "The first line in every node is the feature value threshold used to split the dataset. Samples denotes the number of samples that fall under the nodes. Value and squared error are values used to measure how well the node partitions the data.  "
   ]
  },
  {
   "cell_type": "markdown",
   "id": "e1141f13",
   "metadata": {},
   "source": [
    "### Evaluating the Isolation Forest\n",
    "We can now evaluate how well our trained isolation forest can indentify malicious DoH traffic. We do this be asking it to assign an anomaly score to each sample in our evaluation dataset. A high anomaly score corresponds to malicious data and a low anomaly score represents normal data. However, how high should the anomaly score be is hard to tell until we test it. Next, we calculate several performance metrics for the isolation forest. But first we define a few helper functions. "
   ]
  },
  {
   "cell_type": "markdown",
   "id": "e1669992",
   "metadata": {},
   "source": [
    "### Helper Functions"
   ]
  },
  {
   "cell_type": "code",
   "execution_count": null,
   "id": "70815ca0",
   "metadata": {},
   "outputs": [],
   "source": [
    "# Import numerical operations library\n",
    "import numpy as np\n",
    "#Import ML metrics\n",
    "from sklearn.metrics import roc_curve, auc, precision_recall_curve, roc_auc_score, f1_score, average_precision_score, \\\n",
    "confusion_matrix, precision_score, recall_score, accuracy_score\n",
    "\n",
    "# Function to predict labels based on the best threshold. \n",
    "def predict_labels(fpr, tpr, thresholds, data):\n",
    "\n",
    "    # Calculate best ROC threshold  using the Youden index\n",
    "    #J_index = tpr-fpr\n",
    "    #best = np.argmax(J_index)\n",
    "    threshold = thresholds[np.argmax(tpr-fpr)] # Point on ROC curve colsest to the top-left corner.\n",
    "\n",
    "    # Predict the labels\n",
    "    predicted_labels_roc = data.copy()\n",
    "    predicted_labels_roc[data>threshold]  = -1\n",
    "    predicted_labels_roc[data<=threshold] = 1\n",
    "    #if threshold>1:\n",
    "    #    print(\"threshold is greater than the label (1). All predicted labels are arbitrairly 0\")\n",
    "\n",
    "    return predicted_labels_roc\n",
    "\n",
    "# Function to calculate metrics and save to a dataframe\n",
    "def get_metrics(true_labels, predicted_labels, scores, positive_label=-1):\n",
    "\n",
    "        # calculate and save accuracy, precision, recall, and f1-score\n",
    "        acc = accuracy_score(true_labels, predicted_labels)\n",
    "        prec = precision_score(true_labels, predicted_labels)\n",
    "        rec = recall_score(true_labels, predicted_labels)\n",
    "        f1 = f1_score(true_labels, predicted_labels)\n",
    "        auc = roc_auc_score(true_labels*-1, scores)\n",
    "        ap = average_precision_score(true_labels*-1,scores,pos_label=positive_label)\n",
    "\n",
    "        tn, fp, fn, tp = confusion_matrix(true_labels, predicted_labels).ravel()\n",
    "        fpr = fp/(fp+tn)\n",
    "\n",
    "\n",
    "        # Save the metrics\n",
    "        metricNames = ['accuracy','precision', 'recall(TPR)', 'FPR', 'f1-score', 'AUC','AP','TN', 'FP', 'FN', 'TP']\n",
    "        d = {'metric':metricNames,\n",
    "              'value':[acc, prec, rec, fpr, f1, auc, ap, tn, fp, fn, tp]}\n",
    "        df = pd.DataFrame(data=d)\n",
    "\n",
    "        return df"
   ]
  },
  {
   "cell_type": "markdown",
   "id": "5678ec1c",
   "metadata": {},
   "source": [
    "### Receiver Operating Characteristic Curve\n",
    "\n",
    "The ROC curve is a measure of how well the model can understand the data. An ideal ROC curve goes straight up from (0,0) to (0,1), and then across to (1,1). The worst ROC curve is a diagonal line from (0,0) to (1,1). The ROC curve also helps us find the best anomaly detection score to use as a threshold. "
   ]
  },
  {
   "cell_type": "code",
   "execution_count": null,
   "id": "ed6ec707",
   "metadata": {},
   "outputs": [],
   "source": [
    "import matplotlib.pyplot as plt\n",
    "# Get anomaly scores for samples in the evaluation dataset\n",
    "scores_if  = model_if.decision_function(data_evaluation)*-1\n",
    "\n",
    "# Set the positive label to make it consistent across models. \n",
    "positive_label=-1\n",
    "\n",
    "\n",
    "# Get the Receiver Operator Curve \n",
    "fpr, tpr, thresholds = roc_curve(evaluation_labels, scores_if, pos_label=positive_label)\n",
    "\n",
    "# Calculate the area under the curve\n",
    "roc_auc = auc(fpr, tpr)\n",
    "\n",
    "#Visualize the ROC curve\n",
    "plt.figure(figsize=(8, 6))\n",
    "plt.plot(fpr, tpr, color='darkorange', lw=2, label=f'ROC curve (AUC={roc_auc:.2f})')\n",
    "plt.plot([0,1], [0,1], color='navy', lw=2, linestyle='--')\n",
    "plt.xlim([0.0, 1.0])\n",
    "plt.ylim([0.0, 1.01])\n",
    "plt.xlabel('False Positive Rate')\n",
    "plt.ylabel('True Positive Rate')\n",
    "plt.title('Receiver Operating Characteristic (ROC) Curve')\n",
    "plt.legend(loc='lower right')\n",
    "plt.show()"
   ]
  },
  {
   "cell_type": "markdown",
   "id": "a095939e",
   "metadata": {},
   "source": [
    "## Final ML model metrics\n",
    "Based on the threshold we found with the ROC curve we predict whether the samples are normal or malicious "
   ]
  },
  {
   "cell_type": "code",
   "execution_count": null,
   "id": "ed59d6ee",
   "metadata": {},
   "outputs": [],
   "source": [
    "# Use the isolation forest to predic the labels\n",
    "predicted_labels     = predict_labels(fpr, tpr, thresholds, scores_if)\n",
    "\n",
    "# Calculate the labels\n",
    "metrics_if           = get_metrics(evaluation_labels, predicted_labels, scores_if)\n",
    "metrics_if"
   ]
  },
  {
   "cell_type": "markdown",
   "id": "4ba7537c",
   "metadata": {},
   "source": [
    "## Confusion Matrix\n",
    "The confusion matrix allows us to see how many samples were misclassified. "
   ]
  },
  {
   "cell_type": "code",
   "execution_count": null,
   "id": "7ededbe6",
   "metadata": {},
   "outputs": [],
   "source": [
    "# Plot the confusion matrix\n",
    "import seaborn as sns\n",
    "\n",
    "\n",
    "# Confusion matrix\n",
    "cm = confusion_matrix(evaluation_labels, predicted_labels)\n",
    "\n",
    "sns.set(font_scale=1.4)\n",
    "\n",
    "plt.figure(figsize=(8,6))\n",
    "sns.heatmap(cm, annot=True, fmt='d', cmap='Blues', annot_kws={\"size\":16}, cbar=False, \\\n",
    "           xticklabels = ['Malicious','Normal'], yticklabels = ['Malicious','Normal'])\n",
    "plt.xlabel('Predicted')\n",
    "plt.ylabel('Actual')\n",
    "plt.title('Confusion Matrix')\n",
    "plt.show()"
   ]
  },
  {
   "cell_type": "markdown",
   "id": "4b4631fa",
   "metadata": {},
   "source": [
    "## Visualizing the predictions"
   ]
  },
  {
   "cell_type": "code",
   "execution_count": null,
   "id": "a8e9022a",
   "metadata": {},
   "outputs": [],
   "source": [
    "# Build dataframes for visualizing predictions and original data\n",
    "predicted_labels_df = pd.DataFrame(data = predicted_labels)\n",
    "predicted_labels_df = predicted_labels_df.rename(columns = {0:label_col})\n",
    "\n",
    "data_predicted = pd.concat([data_evaluation, predicted_labels_df], axis = 1)\n",
    "data_evaluation_vis = pd.concat([data_evaluation, evaluation_labels], axis = 1)"
   ]
  },
  {
   "cell_type": "markdown",
   "id": "b4d6aa1e",
   "metadata": {},
   "source": [
    "## Predicted data"
   ]
  },
  {
   "cell_type": "code",
   "execution_count": null,
   "id": "c393f094",
   "metadata": {
    "scrolled": false
   },
   "outputs": [],
   "source": [
    "data_predicted[label_col][data_predicted[label_col] == -1] = \"malicious\"\n",
    "data_predicted[label_col][data_predicted[label_col] == 1] = \"benign\"\n",
    "subset1 = ['bytes_in', 'bytes_out', 'num_pkts_in', 'num_pkts_out']\n",
    "sns.pairplot(data_predicted, vars= subset1, diag_kind='kde', hue=label_col, palette= {'malicious':'red','benign':'blue' })\n",
    "plt.show"
   ]
  },
  {
   "cell_type": "markdown",
   "id": "d0ad323d",
   "metadata": {},
   "source": [
    "## Visualizing the ground truth"
   ]
  },
  {
   "cell_type": "code",
   "execution_count": null,
   "id": "7377382a",
   "metadata": {},
   "outputs": [],
   "source": [
    "data_evaluation_vis[label_col][data_evaluation_vis[label_col] == -1] = \"malicious\"\n",
    "data_evaluation_vis[label_col][data_evaluation_vis[label_col] == 1] = \"benign\"\n",
    "subset1 = ['bytes_in', 'bytes_out', 'num_pkts_in', 'num_pkts_out']\n",
    "sns.pairplot(data_evaluation_vis, vars= subset1, diag_kind='kde', hue=label_col, palette= {'malicious':'red','benign':'blue' })\n",
    "plt.show"
   ]
  },
  {
   "cell_type": "markdown",
   "id": "d303074b",
   "metadata": {},
   "source": [
    "### Can you improve the performance? \n",
    "\n",
    "There are several ways to improve the performance of Isolation Forests. \n",
    "   1. Use more data for training. Are we using all samples ?\n",
    "   2. Use more (or less) trees. Default value for nestimators =100. \n",
    "   3. Use more (or less) features per tree. Default is 1. \n",
    "   4. Bootstrap. Default is False. If true, we allow trees to train on overlapping subsets. \n",
    "   5. Number of samples per tree. "
   ]
  },
  {
   "attachments": {
    "image.png": {
     "image/png": "[encoded data removed]"
    }
   },
   "cell_type": "markdown",
   "id": "4cbc7988",
   "metadata": {},
   "source": [
    "### Local Outlier Factor\n",
    "\n",
    "Local outlier factor (LOF) calculates the density of neighbors for each sample in the dataset. Samples with low density are considered outliers. The density tells us how isolated a samples is from other samples. If the sample's nighbors have many neighbors but our sample doesn't, it is an outlier. The size of the circles in the figure show the outlier score (inverse of density). \n",
    "\n",
    "![image.png](attachment:image.png)\n",
    "Source: [Scikit-Learn](https://scikit-learn.org/stable/auto_examples/neighbors/plot_lof_outlier_detection.html)"
   ]
  },
  {
   "cell_type": "markdown",
   "id": "46adf2c8",
   "metadata": {},
   "source": [
    "####  Training a Local Outlier Factor Model\n",
    "Similarly to Isolation forests, LOFs do not need a testing dataset. They directly train with the training dataset. "
   ]
  },
  {
   "cell_type": "code",
   "execution_count": null,
   "id": "f42feb4b",
   "metadata": {},
   "outputs": [],
   "source": [
    "from sklearn.neighbors import LocalOutlierFactor\n",
    "\n",
    "testing_samples = 600\n",
    "\n",
    "tic = perf_counter()\n",
    "model_lof = LocalOutlierFactor(novelty=True).fit(data_training.sample(n=testing_samples))\n",
    "joblib.dump(model_lof, 'ml_models/Local_Outlier_Factor.sav')\n",
    "toc = perf_counter()\n",
    "t_lof = toc-tic"
   ]
  },
  {
   "cell_type": "code",
   "execution_count": null,
   "id": "e2f89519",
   "metadata": {},
   "outputs": [],
   "source": [
    "print('The LOF training time is:')\n",
    "t_lof"
   ]
  },
  {
   "cell_type": "markdown",
   "id": "a50709f1",
   "metadata": {},
   "source": [
    "### LOF Evaluation\n",
    "The evaluation steps are the same for any ML model. "
   ]
  },
  {
   "cell_type": "code",
   "execution_count": null,
   "id": "df53386b",
   "metadata": {},
   "outputs": [],
   "source": [
    "# Get anomaly scores for samples in the evaluation dataset\n",
    "scores_lof  = model_lof.decision_function(data_evaluation)*-1\n",
    "\n",
    "# Plot ROC Curve\n",
    "\n",
    "\n",
    "#Plot Confusion Matrix"
   ]
  },
  {
   "cell_type": "markdown",
   "id": "544393ca",
   "metadata": {},
   "source": [
    "### Improving LOF Performance\n",
    "By changing the parameters of LOF we can sometimes improve the performance,\n",
    "\n",
    " 1. Number of neighbors used to compute the neighbor algorithm. \n",
    " 2. Distance metric. This metric calculates the distance to other samples from every sample in the dataset. In LOF, it tells us how close the evaluation samples are to training sample clusters. Depending on how the data is distributed in the hyperspace different metrics may have better results. "
   ]
  },
  {
   "cell_type": "markdown",
   "id": "4f6f93eb",
   "metadata": {},
   "source": [
    "## Performance Comparison\n",
    "Which one had a better accuracy, precision, recall, F1-scores, etc.?\n",
    "Which one had a faster training time? "
   ]
  }
 ],
 "metadata": {
  "colab": {
   "provenance": []
  },
  "kernelspec": {
   "display_name": "Python 3 (ipykernel)",
   "language": "python",
   "name": "python3"
  },
  "language_info": {
   "codemirror_mode": {
    "name": "ipython",
    "version": 3
   },
   "file_extension": ".py",
   "mimetype": "text/x-python",
   "name": "python",
   "nbconvert_exporter": "python",
   "pygments_lexer": "ipython3",
   "version": "3.11.4"
  }
 },
 "nbformat": 4,
 "nbformat_minor": 5
}

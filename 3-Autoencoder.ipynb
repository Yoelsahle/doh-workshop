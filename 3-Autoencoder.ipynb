{
 "cells": [
  {
   "cell_type": "markdown",
   "id": "3e136b3e",
   "metadata": {},
   "source": [
    "# Malicious DNS-over-HTTP Traffic Detection using Autoencoders\n",
    "\n",
    "Welcome to this Jupyter Notebook! We will explore the use of autoencoder for anomaly detection of malicious DoH traffic. The notebook will guide your through loading a DoH traffic dataset, designing an autoencoder, training an autoencoder,  and evaluating their effectiveness in identifying malicious traffic. "
   ]
  },
  {
   "cell_type": "markdown",
   "id": "ba8a0970",
   "metadata": {},
   "source": [
    "## Load the dataset\n",
    "\n",
    "We will be using the same training, testing, and evaluation dataset we used for our ML models. \n"
   ]
  },
  {
   "cell_type": "code",
   "execution_count": 10,
   "id": "46b8e800",
   "metadata": {},
   "outputs": [],
   "source": [
    "# Import the Pandas library\n",
    "import pandas as pd\n",
    "\n",
    "# Load the datasets\n",
    "data_training = pd.read_csv('data_training.csv')\n",
    "data_testing  = pd.read_csv('data_testing.csv')\n",
    "data_evaluation = pd.read_csv('data_evaluation.csv')"
   ]
  },
  {
   "cell_type": "code",
   "execution_count": 11,
   "id": "d8338135",
   "metadata": {},
   "outputs": [
    {
     "data": {
      "text/html": [
       "<div>\n",
       "<style scoped>\n",
       "    .dataframe tbody tr th:only-of-type {\n",
       "        vertical-align: middle;\n",
       "    }\n",
       "\n",
       "    .dataframe tbody tr th {\n",
       "        vertical-align: top;\n",
       "    }\n",
       "\n",
       "    .dataframe thead th {\n",
       "        text-align: right;\n",
       "    }\n",
       "</style>\n",
       "<table border=\"1\" class=\"dataframe\">\n",
       "  <thead>\n",
       "    <tr style=\"text-align: right;\">\n",
       "      <th></th>\n",
       "      <th>bytes_out</th>\n",
       "      <th>num_pkts_out</th>\n",
       "      <th>bytes_in</th>\n",
       "      <th>num_pkts_in</th>\n",
       "      <th>bytes_ration</th>\n",
       "      <th>num_pkts_ration</th>\n",
       "      <th>time</th>\n",
       "      <th>av_pkt_size_in</th>\n",
       "      <th>av_pkt_size_out</th>\n",
       "      <th>var_pkt_size_in</th>\n",
       "      <th>var_pkt_size_out</th>\n",
       "      <th>median_in</th>\n",
       "      <th>median_out</th>\n",
       "      <th>mindelay</th>\n",
       "      <th>avgdelay</th>\n",
       "      <th>maxdelay</th>\n",
       "    </tr>\n",
       "  </thead>\n",
       "  <tbody>\n",
       "    <tr>\n",
       "      <th>0</th>\n",
       "      <td>0.000399</td>\n",
       "      <td>0.000422</td>\n",
       "      <td>0.000908</td>\n",
       "      <td>0.000319</td>\n",
       "      <td>0.701742</td>\n",
       "      <td>0.444444</td>\n",
       "      <td>0.000017</td>\n",
       "      <td>0.835148</td>\n",
       "      <td>0.436259</td>\n",
       "      <td>0.884483</td>\n",
       "      <td>0.461765</td>\n",
       "      <td>0.856765</td>\n",
       "      <td>0.436259</td>\n",
       "      <td>0.0</td>\n",
       "      <td>0.002128</td>\n",
       "      <td>0.003809</td>\n",
       "    </tr>\n",
       "    <tr>\n",
       "      <th>1</th>\n",
       "      <td>0.000399</td>\n",
       "      <td>0.000422</td>\n",
       "      <td>0.000908</td>\n",
       "      <td>0.000319</td>\n",
       "      <td>0.701939</td>\n",
       "      <td>0.444444</td>\n",
       "      <td>0.000017</td>\n",
       "      <td>0.835424</td>\n",
       "      <td>0.436259</td>\n",
       "      <td>0.884305</td>\n",
       "      <td>0.461765</td>\n",
       "      <td>0.857005</td>\n",
       "      <td>0.436259</td>\n",
       "      <td>0.0</td>\n",
       "      <td>0.002104</td>\n",
       "      <td>0.003782</td>\n",
       "    </tr>\n",
       "    <tr>\n",
       "      <th>2</th>\n",
       "      <td>0.000512</td>\n",
       "      <td>0.000537</td>\n",
       "      <td>0.000885</td>\n",
       "      <td>0.000319</td>\n",
       "      <td>0.541905</td>\n",
       "      <td>0.355556</td>\n",
       "      <td>0.003239</td>\n",
       "      <td>0.809963</td>\n",
       "      <td>0.451336</td>\n",
       "      <td>0.903291</td>\n",
       "      <td>0.352646</td>\n",
       "      <td>0.834883</td>\n",
       "      <td>0.451336</td>\n",
       "      <td>0.0</td>\n",
       "      <td>0.341698</td>\n",
       "      <td>0.289773</td>\n",
       "    </tr>\n",
       "    <tr>\n",
       "      <th>3</th>\n",
       "      <td>0.000258</td>\n",
       "      <td>0.000269</td>\n",
       "      <td>0.000869</td>\n",
       "      <td>0.000280</td>\n",
       "      <td>0.999414</td>\n",
       "      <td>0.583333</td>\n",
       "      <td>0.001211</td>\n",
       "      <td>0.928255</td>\n",
       "      <td>0.449892</td>\n",
       "      <td>0.999763</td>\n",
       "      <td>0.645340</td>\n",
       "      <td>0.937663</td>\n",
       "      <td>0.449892</td>\n",
       "      <td>0.0</td>\n",
       "      <td>0.200758</td>\n",
       "      <td>0.137269</td>\n",
       "    </tr>\n",
       "    <tr>\n",
       "      <th>4</th>\n",
       "      <td>0.000258</td>\n",
       "      <td>0.000269</td>\n",
       "      <td>0.000869</td>\n",
       "      <td>0.000280</td>\n",
       "      <td>0.999414</td>\n",
       "      <td>0.583333</td>\n",
       "      <td>0.001213</td>\n",
       "      <td>0.928255</td>\n",
       "      <td>0.449892</td>\n",
       "      <td>0.999763</td>\n",
       "      <td>0.645340</td>\n",
       "      <td>0.937663</td>\n",
       "      <td>0.449892</td>\n",
       "      <td>0.0</td>\n",
       "      <td>0.201068</td>\n",
       "      <td>0.137695</td>\n",
       "    </tr>\n",
       "    <tr>\n",
       "      <th>...</th>\n",
       "      <td>...</td>\n",
       "      <td>...</td>\n",
       "      <td>...</td>\n",
       "      <td>...</td>\n",
       "      <td>...</td>\n",
       "      <td>...</td>\n",
       "      <td>...</td>\n",
       "      <td>...</td>\n",
       "      <td>...</td>\n",
       "      <td>...</td>\n",
       "      <td>...</td>\n",
       "      <td>...</td>\n",
       "      <td>...</td>\n",
       "      <td>...</td>\n",
       "      <td>...</td>\n",
       "      <td>...</td>\n",
       "    </tr>\n",
       "    <tr>\n",
       "      <th>1875</th>\n",
       "      <td>0.004141</td>\n",
       "      <td>0.005527</td>\n",
       "      <td>0.003864</td>\n",
       "      <td>0.005711</td>\n",
       "      <td>0.308432</td>\n",
       "      <td>0.657471</td>\n",
       "      <td>0.060191</td>\n",
       "      <td>0.083841</td>\n",
       "      <td>0.121089</td>\n",
       "      <td>0.068863</td>\n",
       "      <td>0.092904</td>\n",
       "      <td>0.203979</td>\n",
       "      <td>0.121089</td>\n",
       "      <td>0.0</td>\n",
       "      <td>0.486822</td>\n",
       "      <td>0.138485</td>\n",
       "    </tr>\n",
       "    <tr>\n",
       "      <th>1876</th>\n",
       "      <td>0.000399</td>\n",
       "      <td>0.000422</td>\n",
       "      <td>0.000908</td>\n",
       "      <td>0.000319</td>\n",
       "      <td>0.701742</td>\n",
       "      <td>0.444444</td>\n",
       "      <td>0.000018</td>\n",
       "      <td>0.835148</td>\n",
       "      <td>0.436259</td>\n",
       "      <td>0.884483</td>\n",
       "      <td>0.461765</td>\n",
       "      <td>0.856765</td>\n",
       "      <td>0.436259</td>\n",
       "      <td>0.0</td>\n",
       "      <td>0.002138</td>\n",
       "      <td>0.003817</td>\n",
       "    </tr>\n",
       "    <tr>\n",
       "      <th>1877</th>\n",
       "      <td>0.148055</td>\n",
       "      <td>0.171055</td>\n",
       "      <td>0.115264</td>\n",
       "      <td>0.171406</td>\n",
       "      <td>0.259254</td>\n",
       "      <td>0.641842</td>\n",
       "      <td>0.999898</td>\n",
       "      <td>0.082422</td>\n",
       "      <td>0.317323</td>\n",
       "      <td>0.011520</td>\n",
       "      <td>0.085843</td>\n",
       "      <td>0.202745</td>\n",
       "      <td>0.317323</td>\n",
       "      <td>0.0</td>\n",
       "      <td>0.265286</td>\n",
       "      <td>0.138841</td>\n",
       "    </tr>\n",
       "    <tr>\n",
       "      <th>1878</th>\n",
       "      <td>0.026530</td>\n",
       "      <td>0.027710</td>\n",
       "      <td>0.026604</td>\n",
       "      <td>0.028594</td>\n",
       "      <td>0.333611</td>\n",
       "      <td>0.660212</td>\n",
       "      <td>0.060620</td>\n",
       "      <td>0.171929</td>\n",
       "      <td>0.472829</td>\n",
       "      <td>0.037032</td>\n",
       "      <td>0.091441</td>\n",
       "      <td>0.280515</td>\n",
       "      <td>0.472829</td>\n",
       "      <td>0.0</td>\n",
       "      <td>0.097853</td>\n",
       "      <td>0.138690</td>\n",
       "    </tr>\n",
       "    <tr>\n",
       "      <th>1879</th>\n",
       "      <td>0.001861</td>\n",
       "      <td>0.002379</td>\n",
       "      <td>0.002022</td>\n",
       "      <td>0.002516</td>\n",
       "      <td>0.355852</td>\n",
       "      <td>0.666667</td>\n",
       "      <td>0.021764</td>\n",
       "      <td>0.127974</td>\n",
       "      <td>0.177116</td>\n",
       "      <td>0.136707</td>\n",
       "      <td>0.146404</td>\n",
       "      <td>0.242324</td>\n",
       "      <td>0.177116</td>\n",
       "      <td>0.0</td>\n",
       "      <td>0.404150</td>\n",
       "      <td>0.136967</td>\n",
       "    </tr>\n",
       "  </tbody>\n",
       "</table>\n",
       "<p>1880 rows × 16 columns</p>\n",
       "</div>"
      ],
      "text/plain": [
       "      bytes_out  num_pkts_out  bytes_in  num_pkts_in  bytes_ration  \\\n",
       "0      0.000399      0.000422  0.000908     0.000319      0.701742   \n",
       "1      0.000399      0.000422  0.000908     0.000319      0.701939   \n",
       "2      0.000512      0.000537  0.000885     0.000319      0.541905   \n",
       "3      0.000258      0.000269  0.000869     0.000280      0.999414   \n",
       "4      0.000258      0.000269  0.000869     0.000280      0.999414   \n",
       "...         ...           ...       ...          ...           ...   \n",
       "1875   0.004141      0.005527  0.003864     0.005711      0.308432   \n",
       "1876   0.000399      0.000422  0.000908     0.000319      0.701742   \n",
       "1877   0.148055      0.171055  0.115264     0.171406      0.259254   \n",
       "1878   0.026530      0.027710  0.026604     0.028594      0.333611   \n",
       "1879   0.001861      0.002379  0.002022     0.002516      0.355852   \n",
       "\n",
       "      num_pkts_ration      time  av_pkt_size_in  av_pkt_size_out  \\\n",
       "0            0.444444  0.000017        0.835148         0.436259   \n",
       "1            0.444444  0.000017        0.835424         0.436259   \n",
       "2            0.355556  0.003239        0.809963         0.451336   \n",
       "3            0.583333  0.001211        0.928255         0.449892   \n",
       "4            0.583333  0.001213        0.928255         0.449892   \n",
       "...               ...       ...             ...              ...   \n",
       "1875         0.657471  0.060191        0.083841         0.121089   \n",
       "1876         0.444444  0.000018        0.835148         0.436259   \n",
       "1877         0.641842  0.999898        0.082422         0.317323   \n",
       "1878         0.660212  0.060620        0.171929         0.472829   \n",
       "1879         0.666667  0.021764        0.127974         0.177116   \n",
       "\n",
       "      var_pkt_size_in  var_pkt_size_out  median_in  median_out  mindelay  \\\n",
       "0            0.884483          0.461765   0.856765    0.436259       0.0   \n",
       "1            0.884305          0.461765   0.857005    0.436259       0.0   \n",
       "2            0.903291          0.352646   0.834883    0.451336       0.0   \n",
       "3            0.999763          0.645340   0.937663    0.449892       0.0   \n",
       "4            0.999763          0.645340   0.937663    0.449892       0.0   \n",
       "...               ...               ...        ...         ...       ...   \n",
       "1875         0.068863          0.092904   0.203979    0.121089       0.0   \n",
       "1876         0.884483          0.461765   0.856765    0.436259       0.0   \n",
       "1877         0.011520          0.085843   0.202745    0.317323       0.0   \n",
       "1878         0.037032          0.091441   0.280515    0.472829       0.0   \n",
       "1879         0.136707          0.146404   0.242324    0.177116       0.0   \n",
       "\n",
       "      avgdelay  maxdelay  \n",
       "0     0.002128  0.003809  \n",
       "1     0.002104  0.003782  \n",
       "2     0.341698  0.289773  \n",
       "3     0.200758  0.137269  \n",
       "4     0.201068  0.137695  \n",
       "...        ...       ...  \n",
       "1875  0.486822  0.138485  \n",
       "1876  0.002138  0.003817  \n",
       "1877  0.265286  0.138841  \n",
       "1878  0.097853  0.138690  \n",
       "1879  0.404150  0.136967  \n",
       "\n",
       "[1880 rows x 16 columns]"
      ]
     },
     "execution_count": 11,
     "metadata": {},
     "output_type": "execute_result"
    }
   ],
   "source": [
    "data_training"
   ]
  },
  {
   "cell_type": "markdown",
   "id": "5cf27222",
   "metadata": {},
   "source": [
    "## Brief Overview of Autoencoders\n",
    "\n",
    "Autoencoders are deep neural networks that can be used for denoising images, reducing the dimensionality of complex data, and anomaly detection. \n",
    "\n",
    "The main objective of the autoencoder is to recreate statistical features from observed normal DoH traffic with high accuracy on its output. If the input to the autoencoder is a normal DoH TCP connection, the reconstruction error will be small. Otherwise, the reconstruction error will be large. \n",
    "\n",
    "Autoencoders are formed by an encoder, a coder, and a decoder. \n",
    "\n",
    "![image.png](attachment:image.png)\n",
    "Source: [Arden Dertat](https://towardsdatascience.com/applied-deep-learning-part-3-autoencoders-1c083af4d798)\n",
    "\n",
    "The difference between the input and the output can be measured using the mean squared error\n",
    "\n",
    "$$MSE = \\frac{1}{n}(x_i-\\hat{x}_i)^2$$\n",
    "\n",
    "where $x_i$ is the $i$th element in the input sample, and $\\hat{x}_i$ is the $i$ element in the output. If a sample has an $MSE$ larger than a threshold, we determine it is malicious. Otherwise, we determine it is normal. \n"
   ]
  },
  {
   "cell_type": "markdown",
   "id": "70514ec7",
   "metadata": {},
   "source": [
    "## The Autoencoder Class\n",
    "The autoencoder is a more complex ML model. Due to the many possible variants, there is no library that provides a standard autoencoder. Instead, we need to build it from scratch. To this end, we use TensorFlow. TensorFlow (along with PyTorch) are the two most common libraries to implement neural networks. \n",
    "\n"
   ]
  },
  {
   "cell_type": "code",
   "execution_count": 4,
   "id": "318667a2",
   "metadata": {},
   "outputs": [
    {
     "name": "stderr",
     "output_type": "stream",
     "text": [
      "2023-09-30 20:24:31.302676: I tensorflow/tsl/cuda/cudart_stub.cc:28] Could not find cuda drivers on your machine, GPU will not be used.\n",
      "2023-09-30 20:24:31.370631: I tensorflow/tsl/cuda/cudart_stub.cc:28] Could not find cuda drivers on your machine, GPU will not be used.\n",
      "2023-09-30 20:24:31.371827: I tensorflow/core/platform/cpu_feature_guard.cc:182] This TensorFlow binary is optimized to use available CPU instructions in performance-critical operations.\n",
      "To enable the following instructions: AVX2 FMA, in other operations, rebuild TensorFlow with the appropriate compiler flags.\n",
      "2023-09-30 20:24:32.493270: W tensorflow/compiler/tf2tensorrt/utils/py_utils.cc:38] TF-TRT Warning: Could not find TensorRT\n"
     ]
    }
   ],
   "source": []
  },
  {
   "cell_type": "markdown",
   "id": "9e9689f6",
   "metadata": {},
   "source": [
    "TensorFlow expects the class of our model to have tens of standards methods. Luckily, most of them are implemented in a base model class called Model. We only need to define the decoder, encoder, code, and how to glue them together. \n",
    "\n",
    "We define the ```Autoencoder``` class as an inherited class of the ```Model``` class. \n",
    "\n",
    "The ```__init__``` function initializes the autoencoder architecture. This is where we tell TensorFlow how many layers and how many neuros per layer we need. We also specify what type of non-linear functions we should use. \n",
    "\n",
    "The encoder is built with a for loop. The ```layer_output_sizes``` variables contains a list with the number of neurons per layers. The size of the list determines how many layers we have in the encoder. \n",
    "\n",
    "The code (or Embedding layer) is defined with the last element of the ```layer_output_sizes``` list. \n",
    "\n",
    "The decoder is defined as a mirror of the encoder by reversing the order of the elements in ```layer_output_sizes```.\n",
    "\n",
    "The ```call``` function tells TensorFlow in what order the layers should be called. "
   ]
  },
  {
   "cell_type": "code",
   "execution_count": 51,
   "id": "0c4dffce",
   "metadata": {},
   "outputs": [],
   "source": [
    "# Import tensorflow modules\n",
    "from tensorflow.keras.models import Model, load_model\n",
    "from tensorflow.keras.layers import Lambda, Dense, LeakyReLU, BatchNormalization, Input\n",
    "from tensorflow.keras import Sequential, callbacks, losses\n",
    "from tensorflow.nn import softmax\n",
    "import copy\n",
    "\n",
    "\n",
    "# Ignore errors about CUDA driver. We do not have GPUs :(\n",
    "\n",
    "class Autoencoder(Model):\n",
    "    def __init__(self, layer_output_sizes):\n",
    "      super(Autoencoder, self).__init__()\n",
    "\n",
    "      #self.layer_output_sizes = layer_output_sizes\n",
    "      #workaround to above commented line that does not work for some reason\n",
    "      #self.__dict__['layer_output_sizes'] = layer_output_sizes\n",
    "      layer_output_sizes = copy.deepcopy(layer_output_sizes)\n",
    "\n",
    "      # The Encoder\n",
    "      self.encoder = None\n",
    "      for level in layer_output_sizes[:-1]:\n",
    "          if self.encoder is None:\n",
    "              self.encoder = Sequential(name='Encoder')\n",
    "              #self.encoder.add(InputLayer(input_shape=(int(level),)))\n",
    "              self.encoder.add(Dense(int(level), name='input_layer_encoder'))\n",
    "          else:\n",
    "              self.encoder.add(Dense(int(level)))\n",
    "              self.encoder.add(BatchNormalization())\n",
    "              self.encoder.add(LeakyReLU())\n",
    "\n",
    "      # The Embedding layer of the Encoder\n",
    "      self.encoder.add(Dense(layer_output_sizes[-1]))\n",
    "\n",
    "      # Reverse layer descriptions\n",
    "      layer_output_sizes.reverse()\n",
    "\n",
    "      # The Decoder\n",
    "      self.decoder = None\n",
    "      for level in layer_output_sizes[1:]:\n",
    "          if self.decoder is None:\n",
    "              self.decoder = Sequential(name='Decoder')\n",
    "              #self.encoder.add(InputLayer(input_shape=(int(level),)))\n",
    "              self.decoder.add(Dense(int(level), name='input_layer_decoder'))\n",
    "          else:\n",
    "              self.decoder.add(Dense(int(level)))\n",
    "              self.decoder.add(BatchNormalization())\n",
    "              self.decoder.add(LeakyReLU())\n",
    "\n",
    "    def call(self, x):\n",
    "      encoded = self.encoder(x)\n",
    "      decoded = self.decoder(encoded)\n",
    "      return decoded\n",
    "\n",
    "    def model(self): #for visualization purposes only\n",
    "        x = Input(shape=(16))\n",
    "        return Model(inputs=[x], outputs=self.call(x))"
   ]
  },
  {
   "cell_type": "markdown",
   "id": "4fa867c0",
   "metadata": {},
   "source": [
    "## Initializing an Autoendoer object\n",
    "The class is a template that we can \"instantiate\" everytime we need to create an autoencoder. For now, we only need one. Our autoencdoer will have one hidden layer with 14 neurons. The code layers will have 3 neurons. "
   ]
  },
  {
   "cell_type": "code",
   "execution_count": 52,
   "id": "bebb40c2",
   "metadata": {},
   "outputs": [],
   "source": [
    "model_architecture = [16,14,3] # the 16 corresponds to the number of features in our dataset. \n",
    "ae = Autoencoder(model_architecture)"
   ]
  },
  {
   "cell_type": "markdown",
   "id": "055784a5",
   "metadata": {},
   "source": [
    "## Training the autoencoder\n",
    "Training deep neural networks involves two main concepts: loss function and training algorithm. \n",
    "\n",
    "The loss function is a function that measures how well the autoencoder is performing. In our case, we can use the mean squared error described above. This will tell us how well the autoencoder is recreating the DoH traffic data. \n",
    "\n",
    "The training algorithm is the set of steps that we take to update the parameters of the neural network based on how well it is doing. If the loss function is large, we make large changes. If the loss function, is small we make small changes. \n",
    "\n",
    "The most common training algorithm is ADAM optimization, which is based on Stochastic Gradient Descent. The good news is that you do not need to be familiar with this algorithm to train your autoencoder. However, you do need to be familiar with the concept of iterations. \n",
    "\n",
    "The ADAM algorithm updates the paramters of the autoencoder in iterations. Each iteration, the algorithm takes a set of training samples and asks the autoencoder to recreate them. It then updates the parameters according to the calculates the mean squared errors. It continues to pick random samples and updating the parameters until it reaches a maximum number of iterations. \n",
    "\n",
    "The maximum number of iterations is defined by how many times we want the algorithm to use the training data set. Every time the algorithm uses all the training data set is called an epoch. \n"
   ]
  },
  {
   "cell_type": "code",
   "execution_count": 53,
   "id": "f66565e3",
   "metadata": {},
   "outputs": [
    {
     "name": "stdout",
     "output_type": "stream",
     "text": [
      "Epoch 1/3\n",
      " 1/13 [=>............................] - ETA: 17s - loss: 0.6868WARNING:tensorflow:Can save best model only with mse available, skipping.\n"
     ]
    },
    {
     "name": "stderr",
     "output_type": "stream",
     "text": [
      "WARNING:tensorflow:Can save best model only with mse available, skipping.\n"
     ]
    },
    {
     "name": "stdout",
     "output_type": "stream",
     "text": [
      "13/13 [==============================] - 2s 19ms/step - loss: 0.6187 - val_loss: 0.1888\n",
      "Epoch 2/3\n",
      " 1/13 [=>............................] - ETA: 0s - loss: 0.6030WARNING:tensorflow:Can save best model only with mse available, skipping.\n"
     ]
    },
    {
     "name": "stderr",
     "output_type": "stream",
     "text": [
      "WARNING:tensorflow:Can save best model only with mse available, skipping.\n"
     ]
    },
    {
     "name": "stdout",
     "output_type": "stream",
     "text": [
      "13/13 [==============================] - 0s 6ms/step - loss: 0.5383 - val_loss: 0.1905\n",
      "Epoch 3/3\n",
      " 1/13 [=>............................] - ETA: 0s - loss: 0.5325WARNING:tensorflow:Can save best model only with mse available, skipping.\n"
     ]
    },
    {
     "name": "stderr",
     "output_type": "stream",
     "text": [
      "WARNING:tensorflow:Can save best model only with mse available, skipping.\n"
     ]
    },
    {
     "name": "stdout",
     "output_type": "stream",
     "text": [
      "13/13 [==============================] - 0s 6ms/step - loss: 0.4905 - val_loss: 0.1867\n",
      "The training time of the Autoencoder was:\n"
     ]
    },
    {
     "data": {
      "text/plain": [
       "2.1714503330003936"
      ]
     },
     "execution_count": 53,
     "metadata": {},
     "output_type": "execute_result"
    }
   ],
   "source": [
    "# Set the training parameters\n",
    "ae.compile(optimizer='adam', loss='mse')\n",
    "\n",
    "\n",
    "# We create a callback to save the best performing autoencoder\n",
    "# We use the mean squared error (i.e., loss function) to determine if when the model improves\n",
    "# Smaller mean squared errors mean better models\n",
    "cp_callback = callbacks.ModelCheckpoint(filepath='autoencoder_model/', save_weights_only=False, \\\n",
    "                                        monitor='mse', mode='min', save_best_only=True, verbose=1)\n",
    "\n",
    "# Advnced visualization callback with tensorboard\n",
    "# %load_ext tensorboard\n",
    "# import tensorboard\n",
    "# from tensorflow import keras\n",
    "# tensorboard_callback = keras.callbacks.TensorBoard(log_dir='logs/')\n",
    "\n",
    "\n",
    "# Uncomment the following line to use only a few training samples if your training is taking too long.  \n",
    "data_training = data_training.sample(n=500)\n",
    "\n",
    "# Training\n",
    "# The fit function implements the ADAM algorithm for us\n",
    "# We pass data_training twice. First is for the input. Second is to tell the ADAM algorithm how the output should\n",
    "# look like. \n",
    "# validation_split tells the training algorithm what percentage of training data should be saved for validation. \n",
    "# epochs tells the ADAM algorithm when to stop\n",
    "# batch_size tells the ADAM algorithm how manny samples to process per iteration\n",
    "from time import perf_counter\n",
    "tic = perf_counter()#start training timer\n",
    "training_history =  ae.fit(data_training, data_training, validation_split=0.2, \\\n",
    "                           validation_data=None, epochs=3, batch_size=32, verbose=1, \\\n",
    "                           callbacks=[cp_callback,\\\n",
    "                                      #tensorboard_callback\n",
    "                                     ])\n",
    "toc = perf_counter()# stop training timer\n",
    "training_time = toc-tic #calculate total training time\n",
    "\n",
    "print(\"The training time of the Autoencoder was:\")\n",
    "training_time"
   ]
  },
  {
   "cell_type": "markdown",
   "id": "9ffd6b89",
   "metadata": {},
   "source": [
    "## Deciding whether we need more or less training \n",
    "All machine learning models can suffer from underfitting and over fitting. Underfitting occurs when we do not learn enough from our trianing dataset due to a small number of epochs. Overtraining occurs when we train the model too much. This results in the model learning exactly our training dataset and loosing its ability to genralize its knowledge to useen samples. \n",
    "\n",
    "We can plot the mean squared error for training samples and for testing samples. We want the testing (aka validation) error to be minimum. "
   ]
  },
  {
   "cell_type": "code",
   "execution_count": 54,
   "id": "bc16b08e",
   "metadata": {},
   "outputs": [
    {
     "data": {
      "image/png": "[encoded data removed]",
      "text/plain": [
       "<Figure size 640x480 with 1 Axes>"
      ]
     },
     "metadata": {},
     "output_type": "display_data"
    }
   ],
   "source": [
    "# Build a dataframe with the training history\n",
    "history_dict = training_history.history\n",
    "history_df= pd.DataFrame(data = history_dict)\n",
    "\n",
    "# Plot the training history\n",
    "fig = history_df.plot.line().get_figure()\n",
    "\n",
    "# Advanced training history graphs\n",
    "# %tensorboard --logdir logs\n"
   ]
  },
  {
   "cell_type": "markdown",
   "id": "6105e0c6",
   "metadata": {},
   "source": [
    "## Visuzalizing the autoencoder architecture\n",
    "We initialized the autoencoder. But how does it actually look? We can visualize the layers using several methods. \n",
    "The easiest one is to use this [website](http://alexlenail.me/NN-SVG/index.html) to manually create the architecture. \n",
    "\n",
    "But that doesn't tell us exactly what we are training. \n",
    "\n",
    "Another option is to use the built-in tensorflow visualization library. This will show us what we are actually training. However, it is not very visually appealing. \n",
    "\n",
    "The most visually appealing and accurate option is Tensorboard. Unfortunately, it is also challenging to use. "
   ]
  },
  {
   "cell_type": "code",
   "execution_count": 55,
   "id": "272da7d3",
   "metadata": {},
   "outputs": [
    {
     "data": {
      "image/png": "[encoded data removed]",
      "text/plain": [
       "<IPython.core.display.Image object>"
      ]
     },
     "execution_count": 55,
     "metadata": {},
     "output_type": "execute_result"
    }
   ],
   "source": [
    "tensorflow.keras.utils.plot_model(ae.model(), to_file='ae_arch.png', show_shapes=True, show_layer_names=True)"
   ]
  },
  {
   "cell_type": "code",
   "execution_count": 57,
   "id": "46fd93d9",
   "metadata": {},
   "outputs": [],
   "source": [
    "# %tensorboard --logdir logs # Use at your own risk :)"
   ]
  },
  {
   "cell_type": "markdown",
   "id": "926a164b",
   "metadata": {},
   "source": [
    "### Updating the training parameters\n",
    "Our model is underfitted. It can still learn more from the training dataset without hurting generalization.  We know this because both the training mean squared error (aka loss) and the testing mean squared error (aka validation loss) are both decreasing. \n",
    "\n",
    "Change the epochs and batch size parameters until you see your model overfitting. That is, when the validation loss starts to increase. "
   ]
  },
  {
   "cell_type": "markdown",
   "id": "7494b001",
   "metadata": {},
   "source": [
    "### Compare the performance to the IF and LOF models. "
   ]
  }
 ],
 "metadata": {
  "kernelspec": {
   "display_name": "Python 3 (ipykernel)",
   "language": "python",
   "name": "python3"
  },
  "language_info": {
   "codemirror_mode": {
    "name": "ipython",
    "version": 3
   },
   "file_extension": ".py",
   "mimetype": "text/x-python",
   "name": "python",
   "nbconvert_exporter": "python",
   "pygments_lexer": "ipython3",
   "version": "3.11.4"
  }
 },
 "nbformat": 4,
 "nbformat_minor": 5
}
